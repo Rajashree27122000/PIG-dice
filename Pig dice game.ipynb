{
 "cells": [
  {
   "cell_type": "code",
   "execution_count": null,
   "id": "9aaa61a7-aaff-4d62-845c-adddd9b086b5",
   "metadata": {},
   "outputs": [
    {
     "name": "stdout",
     "output_type": "stream",
     "text": [
      "\n",
      "welcome to the pig dice game! \n",
      " In this game,a user and a computer opponent\n",
      "roll  a 6-sides die each round. if the value of the die is  a 1, the player that rolled the 1 loses\n",
      "all of their points.otherwise, the player gets the value of die added to their points.  the first player to reach\n",
      "30 points wins!\n",
      "                \n"
     ]
    }
   ],
   "source": [
    "from random import randint\n",
    "\n",
    "def update_score(score,die_value):\n",
    "    if die_value==1:\n",
    "        return 0\n",
    "    else:\n",
    "        return score+die_value\n",
    "\n",
    "def display_scoreboard(player_score,computer_score):\n",
    "    print()\n",
    "    print(\"#\" *20)\n",
    "    print(f\"player score:{player_score}\")\n",
    "    print(f\"compter score:{computer_score}\")\n",
    "    print(\"#\" *20)\n",
    "    print()\n",
    "player_score=0\n",
    "computer_score=0\n",
    "\n",
    "welcome_message=\"\"\"\n",
    "welcome to the pig dice game! \\n In this game,a user and a computer opponent\n",
    "roll  a 6-sides die each round. if the value of the die is  a 1, the player that rolled the 1 loses\n",
    "all of their points.otherwise, the player gets the value of die added to their points.  the first player to reach\n",
    "30 points wins!\n",
    "                \"\"\"\n",
    "print(welcome_message)\n",
    "username=input('what is your name?: ')\n",
    "\n",
    "while True:\n",
    "    input(f\" press 'enter' to roll the die{username}!\\n\")\n",
    "    player_die_value=randint(1,6)\n",
    "    print(f\"{username} rolls a {player_die_value}\")\n",
    "    \n",
    "    computer_die_value=randint(1,6)\n",
    "    print(f\"computer rolls a {computer_die_value}\")\n",
    "\n",
    "    player_score=update_score(player_score,player_die_value)\n",
    "    computer_score=update_score(computer_score,computer_die_value)\n",
    "    display_scoreboard(player_score,computer_score)\n",
    "    if player_score>=30:\n",
    "        print(f\"{username} wins!\")\n",
    "        break\n",
    "    elif  computer_score>=30:\n",
    "        print(\"computer wins!\")\n",
    "        break\n",
    " #print(f\"{player_score=}\")\n",
    "    #print(f\"{computer_score=}\")\n",
    "    #break\n"
   ]
  },
  {
   "cell_type": "code",
   "execution_count": null,
   "id": "9906710b-faec-4e5f-b25d-ab92ded455c1",
   "metadata": {},
   "outputs": [],
   "source": []
  }
 ],
 "metadata": {
  "kernelspec": {
   "display_name": "Python 3 (ipykernel)",
   "language": "python",
   "name": "python3"
  },
  "language_info": {
   "codemirror_mode": {
    "name": "ipython",
    "version": 3
   },
   "file_extension": ".py",
   "mimetype": "text/x-python",
   "name": "python",
   "nbconvert_exporter": "python",
   "pygments_lexer": "ipython3",
   "version": "3.12.7"
  }
 },
 "nbformat": 4,
 "nbformat_minor": 5
}
